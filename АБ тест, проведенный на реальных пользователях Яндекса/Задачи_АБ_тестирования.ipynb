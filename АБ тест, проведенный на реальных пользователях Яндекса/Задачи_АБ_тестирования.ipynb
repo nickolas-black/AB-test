{
  "nbformat": 4,
  "nbformat_minor": 0,
  "metadata": {
    "kernelspec": {
      "display_name": "Python 3",
      "language": "python",
      "name": "python3"
    },
    "language_info": {
      "codemirror_mode": {
        "name": "ipython",
        "version": 3
      },
      "file_extension": ".py",
      "mimetype": "text/x-python",
      "name": "python",
      "nbconvert_exporter": "python",
      "pygments_lexer": "ipython3",
      "version": "3.7.4"
    },
    "colab": {
      "name": "Задачи АБ-тестирования.ipynb",
      "provenance": []
    }
  },
  "cells": [
    {
      "cell_type": "markdown",
      "metadata": {
        "id": "yKpDAmTnJbRS"
      },
      "source": [
        "#  **Описание задачи**"
      ]
    },
    {
      "cell_type": "markdown",
      "metadata": {
        "id": "FBAkZJXPJbRT"
      },
      "source": [
        "В данном задании нужно будет\n",
        "\n",
        "- проанализировать АБ тест, проведенный на реальных пользователях Яндекса\n",
        "- подтвердить или опровергнуть наличие изменений в пользовательском поведении между контрольной (control) и тестовой (exp) группами\n",
        "- определить характер этих изменений и практическую значимость вводимого изменения\n",
        "- понять, какая из пользовательских групп более всего проигрывает / выигрывает от тестируемого изменения (локализовать изменение)\n",
        "\n",
        "\n",
        "Обращаем внимание, что не все люди используют только один браузер, поэтому в столбце userID есть повторяющиеся идентификаторы. В предлагаемых данных уникальным является сочетание userID и browser."
      ]
    },
    {
      "cell_type": "markdown",
      "metadata": {
        "id": "thP2SFENJbRU"
      },
      "source": [
        "#### Описание данных:\n",
        "\n",
        "- userID: уникальный идентификатор пользователя\n",
        "- browser: браузер, который использовал userID\n",
        "\n",
        "- slot: в каком статусе пользователь участвовал в исследовании (exp = видел измененную страницу, control = видел неизменную страницу)\n",
        "- n_clicks: количество кликов, которые пользоваль совершил за n_queries\n",
        "- n_queries: количество запросов, который совершил userID, пользуясь браузером browser\n",
        "- n_nonclk_queries: количество запросов пользователя, в которых им не было совершено ни одного клика"
      ]
    },
    {
      "cell_type": "markdown",
      "metadata": {
        "id": "Zs6fxngmJbRV"
      },
      "source": [
        "Основная метрика, на которой мы сосредоточимся в этой работе, — это количество пользовательских кликов на web-странице в зависимости от тестируемого изменения этой страницы.\n",
        "\n",
        "Посчитайте, насколько в группе exp больше пользовательских кликов по сравнению с группой control в процентах от числа кликов в контрольной группе.\n",
        "\n",
        "Полученный процент округлите до третьего знака после точки."
      ]
    },
    {
      "cell_type": "markdown",
      "metadata": {
        "id": "eSUmIlKpJbRV"
      },
      "source": [
        "## **Чтение файла**"
      ]
    },
    {
      "cell_type": "code",
      "metadata": {
        "id": "JnbMODUaJbRV"
      },
      "source": [
        "import warnings\n",
        "warnings.filterwarnings('ignore')"
      ],
      "execution_count": null,
      "outputs": []
    },
    {
      "cell_type": "code",
      "metadata": {
        "id": "1unyFZtdJbRW"
      },
      "source": [
        "import statsmodels\n",
        "import scipy as sc\n",
        "import numpy as np\n",
        "import pandas as pd\n",
        "import statsmodels.formula.api as smf\n",
        "import statsmodels.stats.api as sms\n",
        "from statsmodels.graphics.regressionplots import plot_leverage_resid2\n",
        "import matplotlib.pyplot as plt\n",
        "import numpy as np\n",
        "import pandas as pd\n",
        "import itertools\n",
        "\n",
        "from scipy import stats\n",
        "from statsmodels.stats.descriptivestats import sign_test\n",
        "from statsmodels.stats.weightstats import zconfint\n",
        "from statsmodels.stats.weightstats import *\n",
        "\n",
        "import scipy\n",
        "from statsmodels.stats.weightstats import *\n",
        "from statsmodels.stats.proportion import proportion_confint"
      ],
      "execution_count": null,
      "outputs": []
    },
    {
      "cell_type": "code",
      "metadata": {
        "id": "bjqP04-eJbRW",
        "outputId": "33da2cd0-6055-408f-8f50-e63830db733f"
      },
      "source": [
        "%pylab inline"
      ],
      "execution_count": null,
      "outputs": [
        {
          "output_type": "stream",
          "text": [
            "Populating the interactive namespace from numpy and matplotlib\n"
          ],
          "name": "stdout"
        }
      ]
    },
    {
      "cell_type": "code",
      "metadata": {
        "id": "y6yWv0rhJbRW",
        "outputId": "562b61bf-f7ed-494b-9341-84cedbe77070"
      },
      "source": [
        "raw = pd.read_csv(\"ab_browser_test.csv\") \n",
        "raw"
      ],
      "execution_count": null,
      "outputs": [
        {
          "output_type": "execute_result",
          "data": {
            "text/html": [
              "<div>\n",
              "<style scoped>\n",
              "    .dataframe tbody tr th:only-of-type {\n",
              "        vertical-align: middle;\n",
              "    }\n",
              "\n",
              "    .dataframe tbody tr th {\n",
              "        vertical-align: top;\n",
              "    }\n",
              "\n",
              "    .dataframe thead th {\n",
              "        text-align: right;\n",
              "    }\n",
              "</style>\n",
              "<table border=\"1\" class=\"dataframe\">\n",
              "  <thead>\n",
              "    <tr style=\"text-align: right;\">\n",
              "      <th></th>\n",
              "      <th>userID</th>\n",
              "      <th>browser</th>\n",
              "      <th>slot</th>\n",
              "      <th>n_clicks</th>\n",
              "      <th>n_queries</th>\n",
              "      <th>n_nonclk_queries</th>\n",
              "    </tr>\n",
              "  </thead>\n",
              "  <tbody>\n",
              "    <tr>\n",
              "      <td>0</td>\n",
              "      <td>1</td>\n",
              "      <td>Browser #2</td>\n",
              "      <td>exp</td>\n",
              "      <td>23</td>\n",
              "      <td>32</td>\n",
              "      <td>19</td>\n",
              "    </tr>\n",
              "    <tr>\n",
              "      <td>1</td>\n",
              "      <td>3</td>\n",
              "      <td>Browser #4</td>\n",
              "      <td>exp</td>\n",
              "      <td>3</td>\n",
              "      <td>4</td>\n",
              "      <td>2</td>\n",
              "    </tr>\n",
              "    <tr>\n",
              "      <td>2</td>\n",
              "      <td>5</td>\n",
              "      <td>Browser #4</td>\n",
              "      <td>exp</td>\n",
              "      <td>29</td>\n",
              "      <td>35</td>\n",
              "      <td>16</td>\n",
              "    </tr>\n",
              "    <tr>\n",
              "      <td>3</td>\n",
              "      <td>6</td>\n",
              "      <td>Browser #4</td>\n",
              "      <td>control</td>\n",
              "      <td>12</td>\n",
              "      <td>6</td>\n",
              "      <td>0</td>\n",
              "    </tr>\n",
              "    <tr>\n",
              "      <td>4</td>\n",
              "      <td>7</td>\n",
              "      <td>Browser #4</td>\n",
              "      <td>exp</td>\n",
              "      <td>54</td>\n",
              "      <td>68</td>\n",
              "      <td>30</td>\n",
              "    </tr>\n",
              "    <tr>\n",
              "      <td>...</td>\n",
              "      <td>...</td>\n",
              "      <td>...</td>\n",
              "      <td>...</td>\n",
              "      <td>...</td>\n",
              "      <td>...</td>\n",
              "      <td>...</td>\n",
              "    </tr>\n",
              "    <tr>\n",
              "      <td>566129</td>\n",
              "      <td>603133</td>\n",
              "      <td>Browser #14</td>\n",
              "      <td>control</td>\n",
              "      <td>1</td>\n",
              "      <td>2</td>\n",
              "      <td>1</td>\n",
              "    </tr>\n",
              "    <tr>\n",
              "      <td>566130</td>\n",
              "      <td>603134</td>\n",
              "      <td>Browser #2</td>\n",
              "      <td>exp</td>\n",
              "      <td>4</td>\n",
              "      <td>2</td>\n",
              "      <td>0</td>\n",
              "    </tr>\n",
              "    <tr>\n",
              "      <td>566131</td>\n",
              "      <td>603135</td>\n",
              "      <td>Browser #4</td>\n",
              "      <td>control</td>\n",
              "      <td>0</td>\n",
              "      <td>1</td>\n",
              "      <td>1</td>\n",
              "    </tr>\n",
              "    <tr>\n",
              "      <td>566132</td>\n",
              "      <td>603136</td>\n",
              "      <td>Browser #4</td>\n",
              "      <td>control</td>\n",
              "      <td>2</td>\n",
              "      <td>3</td>\n",
              "      <td>1</td>\n",
              "    </tr>\n",
              "    <tr>\n",
              "      <td>566133</td>\n",
              "      <td>603137</td>\n",
              "      <td>Browser #2</td>\n",
              "      <td>exp</td>\n",
              "      <td>3</td>\n",
              "      <td>1</td>\n",
              "      <td>0</td>\n",
              "    </tr>\n",
              "  </tbody>\n",
              "</table>\n",
              "<p>566134 rows × 6 columns</p>\n",
              "</div>"
            ],
            "text/plain": [
              "        userID      browser     slot  n_clicks  n_queries  n_nonclk_queries\n",
              "0            1   Browser #2      exp        23         32                19\n",
              "1            3   Browser #4      exp         3          4                 2\n",
              "2            5   Browser #4      exp        29         35                16\n",
              "3            6   Browser #4  control        12          6                 0\n",
              "4            7   Browser #4      exp        54         68                30\n",
              "...        ...          ...      ...       ...        ...               ...\n",
              "566129  603133  Browser #14  control         1          2                 1\n",
              "566130  603134   Browser #2      exp         4          2                 0\n",
              "566131  603135   Browser #4  control         0          1                 1\n",
              "566132  603136   Browser #4  control         2          3                 1\n",
              "566133  603137   Browser #2      exp         3          1                 0\n",
              "\n",
              "[566134 rows x 6 columns]"
            ]
          },
          "metadata": {
            "tags": []
          },
          "execution_count": 7
        }
      ]
    },
    {
      "cell_type": "markdown",
      "metadata": {
        "id": "wNsejxvlJbRX"
      },
      "source": [
        "### Задание 1 \n",
        "\n",
        "Посчитаем, насколько в группе exp больше пользовательских кликов по сравнению с группой control в процентах от числа кликов в контрольной группе.\n",
        "\n",
        "Полученный процент округлим до третьего знака после точки."
      ]
    },
    {
      "cell_type": "code",
      "metadata": {
        "id": "xjduX7tMJbRX"
      },
      "source": [
        "data_exp = raw[raw['slot']  == 'exp'] # датасет, где группа = exp\n",
        "data_control = raw[raw['slot']  == 'control'] # датасет, где группа = control"
      ],
      "execution_count": null,
      "outputs": []
    },
    {
      "cell_type": "code",
      "metadata": {
        "id": "F_8QkCQfJbRX",
        "outputId": "9473d1a1-858d-4a40-9f88-b9104eebb7ec"
      },
      "source": [
        "percent = ((data_exp.n_clicks.sum() / data_control.n_clicks.sum())-1) * 100\n",
        "print('Ответ 1: % отклонений =', percent )"
      ],
      "execution_count": null,
      "outputs": [
        {
          "output_type": "stream",
          "text": [
            "Ответ 1: % отклонений = 1.6135689824415822\n"
          ],
          "name": "stdout"
        }
      ]
    },
    {
      "cell_type": "markdown",
      "metadata": {
        "id": "i4uv735EJbRY"
      },
      "source": [
        "### Задание 2 \n",
        "\n",
        "Давайте попробуем посмотреть более внимательно на разницу между двумя группами (control и exp) относительно количества пользовательских кликов.\n",
        "\n",
        "Для этого построим с помощью бутстрепа 95% доверительный интервал для средних значений и медиан количества кликов в каждой из двух групп. Отметим все верные утверждения."
      ]
    },
    {
      "cell_type": "code",
      "metadata": {
        "id": "XtYcwjXzJbRY"
      },
      "source": [
        "def get_bootstrap_samples(data, n_samples):\n",
        "    indices = np.random.randint(0, len(data), (n_samples, len(data))) # вспомогательная функция для получения псевдоподвыборок\n",
        "    samples = data[indices]\n",
        "    return samples\n",
        "\n",
        "# n_samples - количество выборок"
      ],
      "execution_count": null,
      "outputs": []
    },
    {
      "cell_type": "code",
      "metadata": {
        "id": "EN-YDNBKJbRY"
      },
      "source": [
        "# считаем набор статистик\n",
        "\n",
        "def stat_intervals(stat, alpha):\n",
        "    boundaries = np.percentile(stat, [100 * alpha / 2., 100 * (1 - alpha / 2.)])\n",
        "    return boundaries"
      ],
      "execution_count": null,
      "outputs": []
    },
    {
      "cell_type": "markdown",
      "metadata": {
        "id": "uX6pYleLJbRY"
      },
      "source": [
        "Для бутстрэпа нужен формат np"
      ]
    },
    {
      "cell_type": "code",
      "metadata": {
        "id": "dtiJY2DIJbRY",
        "outputId": "1f2f369a-3db0-4a63-8caa-df1a5ce751c7"
      },
      "source": [
        "# считаем доверительный интервал для медианы (статистика)\n",
        "\n",
        "np.random.seed(0)\n",
        "\n",
        "exp_median_scores = list(map(np.median, get_bootstrap_samples(data_exp.n_clicks.values, 100)))\n",
        "control_median_scores = list(map(np.median, get_bootstrap_samples(data_control.n_clicks.values, 100)))\n",
        "\n",
        "print(\"95% confidence interval for the EXP median repair time:\",  stat_intervals(exp_median_scores, 0.05))\n",
        "print(\"95% confidence interval for the CONTROl median repair time:\",  stat_intervals(control_median_scores, 0.05))"
      ],
      "execution_count": null,
      "outputs": [
        {
          "output_type": "stream",
          "text": [
            "95% confidence interval for the EXP median repair time: [5. 5.]\n",
            "95% confidence interval for the CONTROl median repair time: [4. 4.]\n"
          ],
          "name": "stdout"
        }
      ]
    },
    {
      "cell_type": "code",
      "metadata": {
        "id": "O1TowihKJbRZ",
        "outputId": "7169eb37-52f0-4068-84de-ccd93cc42d98"
      },
      "source": [
        "# доверительный интервал для разности медиан\n",
        "\n",
        "delta_median_scores = list(map(lambda x: x[1] - x[0], zip(exp_median_scores, control_median_scores)))\n",
        "print(\"95% confidence interval for the difference between medians\",  stat_intervals(delta_median_scores, 0.05))"
      ],
      "execution_count": null,
      "outputs": [
        {
          "output_type": "stream",
          "text": [
            "95% confidence interval for the difference between medians [-1. -1.]\n"
          ],
          "name": "stdout"
        }
      ]
    },
    {
      "cell_type": "code",
      "metadata": {
        "id": "tgzw6KIqJbRZ",
        "outputId": "8081fbc6-9040-4d73-8db9-c7195718ce05"
      },
      "source": [
        "# считаем доверительный интервал для средних значений (статистика)\n",
        "\n",
        "np.random.seed(0)\n",
        "\n",
        "exp_mean_scores = list(map(np.mean, get_bootstrap_samples(data_exp.n_clicks.values, 100)))\n",
        "control_mean_scores = list(map(np.mean, get_bootstrap_samples(data_control.n_clicks.values, 100)))\n",
        "\n",
        "print(\"95% confidence interval for the EXP median repair time:\",  stat_intervals(exp_mean_scores, 0.05))\n",
        "print(\"95% confidence interval for the CONTROl median repair time:\",  stat_intervals(control_mean_scores, 0.05))"
      ],
      "execution_count": null,
      "outputs": [
        {
          "output_type": "stream",
          "text": [
            "95% confidence interval for the EXP median repair time: [11.51021077 11.65679008]\n",
            "95% confidence interval for the CONTROl median repair time: [11.21278193 11.34695708]\n"
          ],
          "name": "stdout"
        }
      ]
    },
    {
      "cell_type": "code",
      "metadata": {
        "id": "op4InC1bJbRZ",
        "outputId": "102a2860-b086-4d34-eb4b-f637a28167c9"
      },
      "source": [
        "# доверительный интервал для разности среднего значения\n",
        "\n",
        "delta_mean_scores = list(map(lambda x: x[1] - x[0], zip(exp_mean_scores, control_mean_scores)))\n",
        "print(\"95% confidence interval for the difference between medians\",  stat_intervals(delta_mean_scores, 0.05))"
      ],
      "execution_count": null,
      "outputs": [
        {
          "output_type": "stream",
          "text": [
            "95% confidence interval for the difference between medians [-0.39441327 -0.20696841]\n"
          ],
          "name": "stdout"
        }
      ]
    },
    {
      "cell_type": "markdown",
      "metadata": {
        "id": "BMHDDeRrJbRa"
      },
      "source": [
        "### Выводы:\n",
        "\n",
        "1. 95% доверительный интервал для разности средних не содержит ноль, похоже, средние отличаются статистически значимо\n",
        "\n",
        "2. 95% доверительный интервал для разности медиан не содержит ноль, похоже, медианы отличаются статистически значимо\n",
        "\n"
      ]
    },
    {
      "cell_type": "markdown",
      "metadata": {
        "id": "0b_6ne1fJbRa"
      },
      "source": [
        "### Задание 3 \n",
        "\n",
        "Поскольку данных достаточно много (порядка полумиллиона уникальных пользователей), отличие в несколько процентов может быть не только практически значимым, но и значимым статистически. Последнее утверждение нуждается в дополнительной проверке.\n",
        "\n",
        "Посмотрите на выданные данные и выберите все верные варианты ответа относительно проверки гипотезы о равенстве среднего количества кликов в группах."
      ]
    },
    {
      "cell_type": "markdown",
      "metadata": {
        "id": "SgiFg7MJJbRa"
      },
      "source": [
        "### Выводы:\n",
        "\n",
        "Ответы:\n",
        "\n",
        "1. Для проверки гипотезы о равенстве средних в данной задаче можно использовать только параметрические критерии, потому что непараметрические, как известно, с увеличением размера выборки могут давать непредсказуемые результаты в силу случайности в определении их нулевого распределения.\n",
        "\n",
        "2. Используя центральную предельную теорему, мы можем заключить, что с ростом объема выборки любое исследуемое распределение, становится похожим на нормальное, а значит, учитывая большой объем нашей выборки, оптимальным критерием в нашей задаче будет z-критерий.\n",
        "\n",
        "3. Гипотезу о равенстве средних между двумя выборками можно проверить с помощью построения доверительного интервала для среднего объединенной выборки, потому что в силу большого объема выборки этот интервал будет очень точным, и мы сможем надежно оценить необходимый доверительный интервал\n",
        "\n",
        "4. Для проверки гипотезы о равенстве средних категорически нельзя использовать t-критерий Стьюдента ни при каком размере выборки, потому что количество кликов, которые мы исследуем, больше походят на распределение Пуассона, которое сильно отличается от нормального."
      ]
    },
    {
      "cell_type": "markdown",
      "metadata": {
        "id": "1MaNo73rJbRa"
      },
      "source": [
        "### Задание 4 \n",
        "\n",
        "1. Получим из данных n_boot_samples псевдовыборок.\n",
        "2. По каждой из этих выборок посчитаем среднее и сумму квадратов отклонения от выборочного среднего (control_boot_chi_squared)\n",
        "3. Для получившегося вектора средних значений из n_boot_samples построим q-q plot с помощью scipy.stats.probplot для нормального распределения\n",
        "4. Для получившегося вектора сумм квадратов отклонения от выборочного среднего построим qq-plot с помощью scipy.stats.probplot для хи-квадрат распределения с помощью команды"
      ]
    },
    {
      "cell_type": "code",
      "metadata": {
        "id": "JO1clQcFJbRa"
      },
      "source": [
        "def get_bootstrap_samples(data, n_samples):\n",
        "    indices = np.random.randint(0, len(data), (n_samples, len(data))) # вспомогательная функция для получения псевдоподвыборок\n",
        "    samples = data[indices]\n",
        "    return samples\n",
        "\n",
        "# n_samples - количество выборок"
      ],
      "execution_count": null,
      "outputs": []
    },
    {
      "cell_type": "code",
      "metadata": {
        "scrolled": false,
        "id": "g-9_e7N2JbRb"
      },
      "source": [
        "# для бутстрепа используем np\n",
        "np.random.seed (0)\n",
        "n_boot_samples = 500\n",
        "\n",
        "samples = get_bootstrap_samples (data_control.n_clicks.values,n_boot_samples)"
      ],
      "execution_count": null,
      "outputs": []
    },
    {
      "cell_type": "code",
      "metadata": {
        "id": "PdkXHKNMJbRb"
      },
      "source": [
        "# по каждой выборке считаем среднее и сумму квадратов отклонений \n",
        "\n",
        "means = samples.mean(axis=1) # подсчет средних по каждому массиву \n",
        "delta = samples - means[:, np.newaxis] # отклонение  \n",
        "\n",
        "# newaxis - каждый сэмпл в отдельное поле \n",
        "#x\n",
        "#array([0, 1, 2])\n",
        "#x[:, newaxis]\n",
        "#array([[0],[1],[2]])\n",
        "\n",
        "control_boot_chi_squared = np.sum(delta*delta,axis=1) # сумма квадратов отклонений от выборочных средних "
      ],
      "execution_count": null,
      "outputs": []
    },
    {
      "cell_type": "code",
      "metadata": {
        "id": "ZmAfhRSSJbRb",
        "outputId": "5bd5a36e-63f9-4803-a30b-44508aa868cd"
      },
      "source": [
        "# Для получившегося вектора средних значений из n_boot_samples постройте q-q plot \n",
        "#с помощью scipy.stats.probplot для нормального распределения\n",
        "\n",
        "\n",
        "pylab.figure(figsize=(8,6))\n",
        "scipy.stats.probplot(means, dist=\"norm\", plot=pylab)\n",
        "pylab.show()"
      ],
      "execution_count": null,
      "outputs": [
        {
          "output_type": "display_data",
          "data": {
            "image/png": "[encoded data removed]",
            "text/plain": [
              "<Figure size 576x432 with 1 Axes>"
            ]
          },
          "metadata": {
            "tags": [],
            "needs_background": "light"
          }
        }
      ]
    },
    {
      "cell_type": "markdown",
      "metadata": {
        "id": "GIdsJQFcJbRc"
      },
      "source": [
        "Для получившегося вектора сумм квадратов отклонения от выборочного среднего постройте qq-plot с помощью scipy.stats.probplot для хи-квадрат распределения с помощью команды\n",
        "\n",
        " sparams=(n-1) - число степеней свободы "
      ]
    },
    {
      "cell_type": "code",
      "metadata": {
        "id": "PH-_PG2iJbRc",
        "outputId": "c2b7b63a-3c42-4904-b5c5-0fc8ab2b6965"
      },
      "source": [
        "pylab.figure(figsize=(8,6))\n",
        "scipy.stats.probplot(control_boot_chi_squared, dist=\"chi2\",sparams=(n_boot_samples-1), plot=pylab)\n",
        "pylab.show()"
      ],
      "execution_count": null,
      "outputs": [
        {
          "output_type": "display_data",
          "data": {
            "image/png": "[encoded data removed]",
            "text/plain": [
              "<Figure size 576x432 with 1 Axes>"
            ]
          },
          "metadata": {
            "tags": [],
            "needs_background": "light"
          }
        }
      ]
    },
    {
      "cell_type": "markdown",
      "metadata": {
        "id": "mIfLvGnkJbRc"
      },
      "source": [
        "### Задание 5 \n",
        "\n",
        "Одним из возможных аналогов t-критерия, которым можно воспрользоваться, является тест Манна-Уитни. На достаточно обширном классе распределений он является асимптотически более эффективным, чем t-критерий, и при этом не требует параметрических предположений о характере распределения.\n",
        "\n",
        "Разделите выборку на две части, соответствующие control и exp группам. Преобразуйте данные к виду, чтобы каждому пользователю соответствовало суммарное значение его кликов. С помощью критерия Манна-Уитни проверьте гипотезу о равенстве средних. Что можно сказать о получившемся значении достигаемого уровня значимости ? Выберите все правильные ответы"
      ]
    },
    {
      "cell_type": "code",
      "metadata": {
        "id": "oqRc8h2xJbRc",
        "outputId": "76d79b2a-5c55-4c8c-e26f-67d4aa1c5622"
      },
      "source": [
        "stats.mannwhitneyu(data_control.n_clicks, data_exp.n_clicks)"
      ],
      "execution_count": null,
      "outputs": [
        {
          "output_type": "execute_result",
          "data": {
            "text/plain": [
              "MannwhitneyuResult(statistic=38940590204.0, pvalue=3.1236179006848145e-75)"
            ]
          },
          "metadata": {
            "tags": []
          },
          "execution_count": 49
        }
      ]
    },
    {
      "cell_type": "markdown",
      "metadata": {
        "id": "RBJ8oJv_JbRd"
      },
      "source": [
        "Получившееся значение достигаемого уровня значимости свидетельствует о статистической значимости отличий между двумя выборками"
      ]
    },
    {
      "cell_type": "markdown",
      "metadata": {
        "id": "I5syWpyxJbRd"
      },
      "source": [
        "### Задание 6 \n",
        "\n",
        "Проверим для какого из браузеров наиболее сильно выражено отличие между количеством кликов в контрольной и экспериментальной группах.\n",
        "\n",
        "Для этого применим для каждого из срезов (по каждому из уникальных значений столбца browser) критерий Манна-Уитни между control и exp группами и сделайте поправку Холма-Бонферрони на множественную проверку с \\alpha=0.05α=0.05.\n",
        "\n",
        "Какое заключение можно сделать исходя из полученных результатов ?\n",
        "\n",
        "В качестве ответа введем количество незначимых изменений с точки зрения результатов, полученных после введения коррекции."
      ]
    },
    {
      "cell_type": "code",
      "metadata": {
        "id": "z9aD-uH7JbRd",
        "outputId": "db99ec96-1844-45a5-e0cf-68b58146a0b3"
      },
      "source": [
        "data_exp.browser.value_counts()"
      ],
      "execution_count": null,
      "outputs": [
        {
          "output_type": "execute_result",
          "data": {
            "text/plain": [
              "Browser #4     78152\n",
              "Browser #22    71080\n",
              "Browser #2     54944\n",
              "Browser #14    44220\n",
              "Browser #20    16931\n",
              "Browser #17    16253\n",
              "Name: browser, dtype: int64"
            ]
          },
          "metadata": {
            "tags": []
          },
          "execution_count": 68
        }
      ]
    },
    {
      "cell_type": "code",
      "metadata": {
        "id": "_4VbcN54JbRe"
      },
      "source": [
        "browser_names = ['Browser #4','Browser #22','Browser #2','Browser #14','Browser #20','Browser #17']"
      ],
      "execution_count": null,
      "outputs": []
    },
    {
      "cell_type": "code",
      "metadata": {
        "id": "2RSbqR9QJbRe",
        "outputId": "8af6bae4-161d-4099-d790-46f4570b1930"
      },
      "source": [
        "stats.mannwhitneyu(a, b)[1]"
      ],
      "execution_count": null,
      "outputs": [
        {
          "output_type": "execute_result",
          "data": {
            "text/plain": [
              "0.40760617658454984"
            ]
          },
          "metadata": {
            "tags": []
          },
          "execution_count": 77
        }
      ]
    },
    {
      "cell_type": "code",
      "metadata": {
        "id": "jSAXM2APJbRe"
      },
      "source": [
        "browsers_data=[]\n",
        "\n",
        "for i in browser_names:\n",
        "    a = data_control[data_control['browser']  == i].n_clicks\n",
        "    b = data_exp[data_exp['browser']  == i].n_clicks\n",
        "    p_value = stats.mannwhitneyu(a, b)[1]\n",
        "    browsers_data.append([i, p_value])\n",
        "\n"
      ],
      "execution_count": null,
      "outputs": []
    },
    {
      "cell_type": "code",
      "metadata": {
        "id": "BPRGhGOFJbRe",
        "outputId": "05f01e73-180c-4d59-eb70-702520696fd3"
      },
      "source": [
        "browser_correlation = pd.DataFrame.from_records(browsers_data)\n",
        "browser_correlation.columns = ['browser', 'p_value']\n",
        "\n",
        "browser_correlation"
      ],
      "execution_count": null,
      "outputs": [
        {
          "output_type": "execute_result",
          "data": {
            "text/html": [
              "<div>\n",
              "<style scoped>\n",
              "    .dataframe tbody tr th:only-of-type {\n",
              "        vertical-align: middle;\n",
              "    }\n",
              "\n",
              "    .dataframe tbody tr th {\n",
              "        vertical-align: top;\n",
              "    }\n",
              "\n",
              "    .dataframe thead th {\n",
              "        text-align: right;\n",
              "    }\n",
              "</style>\n",
              "<table border=\"1\" class=\"dataframe\">\n",
              "  <thead>\n",
              "    <tr style=\"text-align: right;\">\n",
              "      <th></th>\n",
              "      <th>browser</th>\n",
              "      <th>p_value</th>\n",
              "    </tr>\n",
              "  </thead>\n",
              "  <tbody>\n",
              "    <tr>\n",
              "      <td>0</td>\n",
              "      <td>Browser #4</td>\n",
              "      <td>0.407606</td>\n",
              "    </tr>\n",
              "    <tr>\n",
              "      <td>1</td>\n",
              "      <td>Browser #22</td>\n",
              "      <td>0.257406</td>\n",
              "    </tr>\n",
              "    <tr>\n",
              "      <td>2</td>\n",
              "      <td>Browser #2</td>\n",
              "      <td>0.027244</td>\n",
              "    </tr>\n",
              "    <tr>\n",
              "      <td>3</td>\n",
              "      <td>Browser #14</td>\n",
              "      <td>0.000000</td>\n",
              "    </tr>\n",
              "    <tr>\n",
              "      <td>4</td>\n",
              "      <td>Browser #20</td>\n",
              "      <td>0.453667</td>\n",
              "    </tr>\n",
              "    <tr>\n",
              "      <td>5</td>\n",
              "      <td>Browser #17</td>\n",
              "      <td>0.037401</td>\n",
              "    </tr>\n",
              "  </tbody>\n",
              "</table>\n",
              "</div>"
            ],
            "text/plain": [
              "       browser   p_value\n",
              "0   Browser #4  0.407606\n",
              "1  Browser #22  0.257406\n",
              "2   Browser #2  0.027244\n",
              "3  Browser #14  0.000000\n",
              "4  Browser #20  0.453667\n",
              "5  Browser #17  0.037401"
            ]
          },
          "metadata": {
            "tags": []
          },
          "execution_count": 82
        }
      ]
    },
    {
      "cell_type": "code",
      "metadata": {
        "id": "tK5MyPCEJbRe"
      },
      "source": [
        "from statsmodels.sandbox.stats.multicomp import multipletests \n",
        "\n",
        "reject, p_corrected, a1, a2 = multipletests(browser_correlation.p_value, \n",
        "                                            alpha = 0.05, \n",
        "                                            method = 'bonferroni') "
      ],
      "execution_count": null,
      "outputs": []
    },
    {
      "cell_type": "code",
      "metadata": {
        "id": "Qyob8QzlJbRf",
        "outputId": "4eecfe82-6593-4f32-c1bc-1820a524fe50"
      },
      "source": [
        "reject"
      ],
      "execution_count": null,
      "outputs": [
        {
          "output_type": "execute_result",
          "data": {
            "text/plain": [
              "array([False, False, False,  True, False, False])"
            ]
          },
          "metadata": {
            "tags": []
          },
          "execution_count": 90
        }
      ]
    },
    {
      "cell_type": "markdown",
      "metadata": {
        "id": "2nviXQdDJbRf"
      },
      "source": [
        "В качестве ответа введите количество незначимых изменений с точки зрения результатов, полученных после введения коррекции\n",
        "Ответ: 5 "
      ]
    },
    {
      "cell_type": "markdown",
      "metadata": {
        "id": "HZYYtdyhJbRf"
      },
      "source": [
        "### Задание 7\n",
        "\n",
        "Для каждого браузера в каждой из двух групп (control и exp) посчитаем долю запросов, в которых пользователь не кликнул ни разу. Это можно сделать, поделив сумму значений n_nonclk_queries на сумму значений n_queries. Умножив это значение на 100, получим процент некликнутых запросов, который можно легче проинтерпретировать.\n",
        "\n",
        "Сходятся ли результаты проведенного анализа с показателем процента некликнутых запросов ? Отметим все верные утверждения."
      ]
    },
    {
      "cell_type": "code",
      "metadata": {
        "id": "-4-UkV_OJbRf",
        "outputId": "2cf46f4e-b0b1-4b25-9475-d27a60b382f4"
      },
      "source": [
        "data_control"
      ],
      "execution_count": null,
      "outputs": [
        {
          "output_type": "execute_result",
          "data": {
            "text/html": [
              "<div>\n",
              "<style scoped>\n",
              "    .dataframe tbody tr th:only-of-type {\n",
              "        vertical-align: middle;\n",
              "    }\n",
              "\n",
              "    .dataframe tbody tr th {\n",
              "        vertical-align: top;\n",
              "    }\n",
              "\n",
              "    .dataframe thead th {\n",
              "        text-align: right;\n",
              "    }\n",
              "</style>\n",
              "<table border=\"1\" class=\"dataframe\">\n",
              "  <thead>\n",
              "    <tr style=\"text-align: right;\">\n",
              "      <th></th>\n",
              "      <th>userID</th>\n",
              "      <th>browser</th>\n",
              "      <th>slot</th>\n",
              "      <th>n_clicks</th>\n",
              "      <th>n_queries</th>\n",
              "      <th>n_nonclk_queries</th>\n",
              "    </tr>\n",
              "  </thead>\n",
              "  <tbody>\n",
              "    <tr>\n",
              "      <td>3</td>\n",
              "      <td>6</td>\n",
              "      <td>Browser #4</td>\n",
              "      <td>control</td>\n",
              "      <td>12</td>\n",
              "      <td>6</td>\n",
              "      <td>0</td>\n",
              "    </tr>\n",
              "    <tr>\n",
              "      <td>5</td>\n",
              "      <td>8</td>\n",
              "      <td>Browser #4</td>\n",
              "      <td>control</td>\n",
              "      <td>4</td>\n",
              "      <td>4</td>\n",
              "      <td>1</td>\n",
              "    </tr>\n",
              "    <tr>\n",
              "      <td>7</td>\n",
              "      <td>10</td>\n",
              "      <td>Browser #4</td>\n",
              "      <td>control</td>\n",
              "      <td>22</td>\n",
              "      <td>15</td>\n",
              "      <td>2</td>\n",
              "    </tr>\n",
              "    <tr>\n",
              "      <td>9</td>\n",
              "      <td>15</td>\n",
              "      <td>Browser #14</td>\n",
              "      <td>control</td>\n",
              "      <td>2</td>\n",
              "      <td>2</td>\n",
              "      <td>0</td>\n",
              "    </tr>\n",
              "    <tr>\n",
              "      <td>13</td>\n",
              "      <td>23</td>\n",
              "      <td>Browser #4</td>\n",
              "      <td>control</td>\n",
              "      <td>3</td>\n",
              "      <td>1</td>\n",
              "      <td>0</td>\n",
              "    </tr>\n",
              "    <tr>\n",
              "      <td>...</td>\n",
              "      <td>...</td>\n",
              "      <td>...</td>\n",
              "      <td>...</td>\n",
              "      <td>...</td>\n",
              "      <td>...</td>\n",
              "      <td>...</td>\n",
              "    </tr>\n",
              "    <tr>\n",
              "      <td>566124</td>\n",
              "      <td>603128</td>\n",
              "      <td>Browser #14</td>\n",
              "      <td>control</td>\n",
              "      <td>5</td>\n",
              "      <td>4</td>\n",
              "      <td>2</td>\n",
              "    </tr>\n",
              "    <tr>\n",
              "      <td>566128</td>\n",
              "      <td>603132</td>\n",
              "      <td>Browser #22</td>\n",
              "      <td>control</td>\n",
              "      <td>1</td>\n",
              "      <td>1</td>\n",
              "      <td>0</td>\n",
              "    </tr>\n",
              "    <tr>\n",
              "      <td>566129</td>\n",
              "      <td>603133</td>\n",
              "      <td>Browser #14</td>\n",
              "      <td>control</td>\n",
              "      <td>1</td>\n",
              "      <td>2</td>\n",
              "      <td>1</td>\n",
              "    </tr>\n",
              "    <tr>\n",
              "      <td>566131</td>\n",
              "      <td>603135</td>\n",
              "      <td>Browser #4</td>\n",
              "      <td>control</td>\n",
              "      <td>0</td>\n",
              "      <td>1</td>\n",
              "      <td>1</td>\n",
              "    </tr>\n",
              "    <tr>\n",
              "      <td>566132</td>\n",
              "      <td>603136</td>\n",
              "      <td>Browser #4</td>\n",
              "      <td>control</td>\n",
              "      <td>2</td>\n",
              "      <td>3</td>\n",
              "      <td>1</td>\n",
              "    </tr>\n",
              "  </tbody>\n",
              "</table>\n",
              "<p>284554 rows × 6 columns</p>\n",
              "</div>"
            ],
            "text/plain": [
              "        userID      browser     slot  n_clicks  n_queries  n_nonclk_queries\n",
              "3            6   Browser #4  control        12          6                 0\n",
              "5            8   Browser #4  control         4          4                 1\n",
              "7           10   Browser #4  control        22         15                 2\n",
              "9           15  Browser #14  control         2          2                 0\n",
              "13          23   Browser #4  control         3          1                 0\n",
              "...        ...          ...      ...       ...        ...               ...\n",
              "566124  603128  Browser #14  control         5          4                 2\n",
              "566128  603132  Browser #22  control         1          1                 0\n",
              "566129  603133  Browser #14  control         1          2                 1\n",
              "566131  603135   Browser #4  control         0          1                 1\n",
              "566132  603136   Browser #4  control         2          3                 1\n",
              "\n",
              "[284554 rows x 6 columns]"
            ]
          },
          "metadata": {
            "tags": []
          },
          "execution_count": 91
        }
      ]
    },
    {
      "cell_type": "code",
      "metadata": {
        "id": "rhPZU3gOJbRf"
      },
      "source": [
        "n_queries_data=[]\n",
        "\n",
        "for i in browser_names:\n",
        "    control = ((data_control[data_control['browser']  == i].n_nonclk_queries.sum()) / (data_control[data_control['browser']  == i].n_queries.sum())) * 100\n",
        "    exp = ((data_exp[data_exp['browser']  == i].n_nonclk_queries.sum()) / (data_exp[data_exp['browser']  == i].n_queries.sum())) * 100\n",
        "    n_queries_data.append([i, control, exp])"
      ],
      "execution_count": null,
      "outputs": []
    },
    {
      "cell_type": "code",
      "metadata": {
        "id": "jQlRW3-OJbRf",
        "outputId": "f72b9019-71d6-4373-d2e3-208057cae8fc"
      },
      "source": [
        "n_queries_data"
      ],
      "execution_count": null,
      "outputs": [
        {
          "output_type": "execute_result",
          "data": {
            "text/plain": [
              "[['Browser #4', 46.97092963514274, 45.14294190358467],\n",
              " ['Browser #22', 40.593976593513354, 39.85394721969546],\n",
              " ['Browser #2', 45.96274717919465, 44.982746948554706],\n",
              " ['Browser #14', 57.59041136008114, 43.755617361273295],\n",
              " ['Browser #20', 40.540484743383296, 38.97737648371716],\n",
              " ['Browser #17', 36.29936674628208, 36.93741284866483]]"
            ]
          },
          "metadata": {
            "tags": []
          },
          "execution_count": 97
        }
      ]
    },
    {
      "cell_type": "markdown",
      "metadata": {
        "id": "CEs9yl5FJbRg"
      },
      "source": [
        "Вывод:\n",
        "    \n",
        "   \n",
        "С помощью анализа, проведенного в предыдущем вопросе, мы показали, что тестируемое изменение приводит к статистически значимому отличию только для одного браузера. Для этого браузера на основе данных о доли некликнутых запросов, заключаем, что тестируемое изменение влияет на пользователей позитивно."
      ]
    }
  ]
}
