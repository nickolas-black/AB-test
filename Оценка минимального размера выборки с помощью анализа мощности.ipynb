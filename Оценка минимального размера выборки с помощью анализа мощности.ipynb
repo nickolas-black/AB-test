{
 "cells": [
  {
   "cell_type": "markdown",
   "metadata": {
    "id": "ADT6nzn3xpmZ"
   },
   "source": [
    "## **Что такое статистическая мощность?**\n",
    "При проверке гипотез статистическая мощность - это вероятность обнаружения эффекта, если эффект будет обнаружен (если эффект действительно существует). Его также можно использовать в качестве инструмента для оценки количества наблюдений или размера выборки, необходимых для обнаружения эффекта в эксперименте.\n"
   ]
  },
  {
   "cell_type": "markdown",
   "metadata": {
    "id": "bVCKEyxOxtSq"
   },
   "source": [
    "## **Что такое анализ мощности?** \n",
    "Анализ мощности можно использовать для оценки минимального размера выборки, необходимого для эксперимента, с учетом желаемого уровня значимости, размера эффекта и статистической мощности.\n",
    "\n",
    "Обычно определяют:\n",
    "\n",
    "- Уровень значимости (α) = 0,05 (достоверность 95%)\n",
    "- Статистическая мощность = 0,8 (80%)\n",
    "- Размер эффекта (на основе меры d Чоэна) = 0,8 для большого размера эффекта, средний размер эффекта = 0,5, размер малого эффекта = 0,2.\n",
    "\n",
    "Тест часто интерпретируется с использованием **p-значения ** , которое представляет собой вероятность наблюдения результата при условии, что нулевая гипотеза верна.\n",
    "\n",
    "При интерпретации p-значения теста значимости вы должны указать уровень значимости. Результат теста значимости считается «статистически значимым», если значение p меньше уровня значимости. Это означает, что нулевая гипотеза (о том, что разницы нет) отклоняется.\n",
    "\n",
    "- p <= alpha : отклонить H0, другое распределение\n",
    "- p> alpha : не удалось отклонить H0, такое же распределение\n"
   ]
  },
  {
   "cell_type": "markdown",
   "metadata": {
    "id": "aYnuPko9x6aO"
   },
   "source": [
    "## **Расчет анализа мощности**"
   ]
  },
  {
   "cell_type": "markdown",
   "metadata": {
    "id": "CPq-4s-Rx-ss"
   },
   "source": [
    "### **Терминология**"
   ]
  },
  {
   "cell_type": "markdown",
   "metadata": {
    "id": "S7ncnv07yBjq"
   },
   "source": [
    "##### **Независимый выборочный тест (или двухвыборочный t-тест)**"
   ]
  },
  {
   "cell_type": "markdown",
   "metadata": {
    "id": "_VRPgWWayFie"
   },
   "source": [
    "Логический статистический тест, который определяет, существует ли статистически значимая разница между средними значениями в двух несвязанных группах.\n",
    "<br> Нулевая гипотеза для независимого t-критерия состоит в том, что средние по совокупности двух несвязанных групп равны:\n",
    "\n",
    "\n",
    "> H0: u1 = u2\n",
    "\n",
    "\n",
    "<br> Альтернативная гипотеза в таком случае будет, если средние по численности населения не равны: \n",
    "> HA: u1 ≠ u2\n",
    "\n",
    "<br>**Что такое несвязанные группы?**\n",
    "\n",
    "Несвязанные группы - это группы, в каждой из которых разные пользователи. Часто мы исследуем различия между людьми, что означает, что при сравнении двух групп человек в одной группе не может быть членом другой группы, и наоборот. \n",
    "\n"
   ]
  },
  {
   "cell_type": "markdown",
   "metadata": {
    "id": "td5EjOcfyMC5"
   },
   "source": [
    "##### **Парный образец теста**\n",
    "\n",
    "Парный t-критерий используется для сравнения двух средних значений совокупности, когда у вас есть две выборки, в которых наблюдения в одной выборке могут быть объединены с наблюдениями в другой выборке. Примеры того, где это может произойти:\n",
    "\n",
    "- Наблюдения до и после одних и тех же предметов.\n",
    "- Сравнение двух разных методов измерения или двух разных видов лечения, когда измерения / лечения применяются к одним и тем же предметам.\n",
    "\n",
    "Нулевая гипотеза для парного выборочного t-критерия состоит в том, что средняя разница между двумя наборами наблюдений (группами) равна нулю.\n"
   ]
  },
  {
   "cell_type": "markdown",
   "metadata": {
    "id": "Erp-IfqoyW3l"
   },
   "source": [
    "### **График минимального размера выборки, необходимого для обнаружения различных размеров эффекта**"
   ]
  },
  {
   "cell_type": "code",
   "execution_count": 1,
   "metadata": {
    "colab": {
     "base_uri": "https://localhost:8080/",
     "height": 295
    },
    "id": "Nj7fb_GWybxS",
    "outputId": "a1755f46-a43a-4589-fec3-13849727473e"
   },
   "outputs": [
    {
     "data": {
      "image/png": "[encoded data removed]",
      "text/plain": [
       "<Figure size 432x288 with 1 Axes>"
      ]
     },
     "metadata": {
      "needs_background": "light"
     },
     "output_type": "display_data"
    }
   ],
   "source": [
    "# рассчитать кривые мощности для различных выборок и размера\n",
    "from numpy import array\n",
    "from matplotlib import pyplot\n",
    "from statsmodels.stats.power import TTestIndPower\n",
    "\n",
    "# параметры для анализа можности\n",
    "effect_sizes = array([0.01,0.2, 0.5,0.8,1.20,2])                  # определите диапазон желаемого эффекта или используйте полный диапазон \n",
    "sample_sizes = array(range(5,1000))                               # определяем диапазон размера выборки, который хотите исследовать \n",
    "\n",
    "# рассчитать кривые мощности на основе нескольких анализов мощности\n",
    "analysis = TTestIndPower()                                        # переход на TTestPower() в случае парного t-критерия выборки\n",
    "analysis.plot_power(dep_var='nobs', nobs=sample_sizes, effect_size=effect_sizes)\n",
    "pyplot.axhline(y=0.8, color='r', linestyle='dashed', linewidth=1) # добовляет горизонтальную линию при power = 0.8\n",
    "pyplot.show()\n"
   ]
  },
  {
   "cell_type": "markdown",
   "metadata": {
    "id": "gRFC2Aq-ye03"
   },
   "source": [
    "### **Мин. Расчет размера выборки с учетом размера эффекта, мощности и уровня значимости**"
   ]
  },
  {
   "cell_type": "code",
   "execution_count": 2,
   "metadata": {
    "colab": {
     "base_uri": "https://localhost:8080/",
     "height": 34
    },
    "id": "kal2Og1Qyh89",
    "outputId": "03793f02-a4ba-4b2b-8b15-cd7748049609"
   },
   "outputs": [
    {
     "name": "stdout",
     "output_type": "stream",
     "text": [
      "Размер образца: 6280\n"
     ]
    }
   ],
   "source": [
    "# оценить размер выборки с помощью анализа мощности\n",
    "from statsmodels.stats.power import TTestIndPower\n",
    "\n",
    "# параметры для анализа мощности (при необходимости изменить)\n",
    "effect = 0.05 \n",
    "alpha = 0.05\n",
    "power = 0.8\n",
    "\n",
    "# выполнить анализ мощности\n",
    "analysis = TTestIndPower()  # переход на TTestPower() в случае парного t-критерия выборки\n",
    "result = analysis.solve_power(effect, power=power, nobs1=None, ratio=1.0, alpha=alpha)\n",
    "\n",
    "    # nobs1 = размер выборки, количество наблюдений. Это то, что мы ищем\n",
    "    # ratio = если ожидается, что обе выборки будут иметь одинаковое количество наблюдений, то соотношение будет 1.0. \n",
    "    #         если, например, ожидается, что во второй выборке будет вдвое меньше наблюдений, то соотношение будет 0.5\n",
    "\n",
    "print('Размер образца: %.0f' % result)"
   ]
  }
 ],
 "metadata": {
  "colab": {
   "name": "Minimal sample size calculation (Power Analysis).ipynb",
   "provenance": []
  },
  "kernelspec": {
   "display_name": "Python 3",
   "language": "python",
   "name": "python3"
  },
  "language_info": {
   "codemirror_mode": {
    "name": "ipython",
    "version": 3
   },
   "file_extension": ".py",
   "mimetype": "text/x-python",
   "name": "python",
   "nbconvert_exporter": "python",
   "pygments_lexer": "ipython3",
   "version": "3.8.5"
  }
 },
 "nbformat": 4,
 "nbformat_minor": 1
}
