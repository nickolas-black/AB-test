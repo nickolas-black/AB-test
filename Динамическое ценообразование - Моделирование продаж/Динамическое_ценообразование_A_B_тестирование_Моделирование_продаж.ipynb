{
  "nbformat": 4,
  "nbformat_minor": 0,
  "metadata": {
    "kernelspec": {
      "display_name": "Python 3",
      "language": "python",
      "name": "python3"
    },
    "language_info": {
      "codemirror_mode": {
        "name": "ipython",
        "version": 3
      },
      "file_extension": ".py",
      "mimetype": "text/x-python",
      "name": "python",
      "nbconvert_exporter": "python",
      "pygments_lexer": "ipython3",
      "version": "3.8.5"
    },
    "colab": {
      "name": "Динамическое ценообразование - A  B-тестирование - Моделирование продаж",
      "provenance": [],
      "collapsed_sections": []
    }
  },
  "cells": [
    {
      "cell_type": "markdown",
      "metadata": {
        "id": "6hUc-DqJQwqg"
      },
      "source": [
        "## **Динамическое ценообразование - A / B-тестирование - Моделирование продаж**\n"
      ]
    },
    {
      "cell_type": "markdown",
      "metadata": {
        "id": "xqgxv0LMQwqi"
      },
      "source": [
        "##### В этом проекте я попытался применить A / B-тестирование, чтобы определить оптимальную цену с доверительным интервалом и смоделировать продажи с разными ценами. Наша цель - обеспечить максимальную прибыль, как и предполагалось :)"
      ]
    },
    {
      "cell_type": "markdown",
      "metadata": {
        "id": "Shafm2mmQwqj"
      },
      "source": [
        "#### Данные, которые мы собираемся использовать, состоят из двух столбцов: Shop_id и Price.\n",
        "#### Shop_id представляет 6 различных магазинов, а Price - это сумма, которую покупатель желает заплатить за конкретный товар.\n",
        "#### Набор данных создан на основе ответов на опрос, проведенный в разных магазинах.\n",
        "#### В этом проекте считается, что участники опроса рационально ответили на вопросы."
      ]
    },
    {
      "cell_type": "markdown",
      "metadata": {
        "id": "U2QjGD0xQwqj"
      },
      "source": [
        "### **Загразку библиотек**"
      ]
    },
    {
      "cell_type": "code",
      "metadata": {
        "id": "V4o9nrNiQwqj"
      },
      "source": [
        "import pandas as pd\n",
        "from scipy import stats\n",
        "from scipy.stats import shapiro\n",
        "import statsmodels.stats.api as sms\n"
      ],
      "execution_count": null,
      "outputs": []
    },
    {
      "cell_type": "markdown",
      "metadata": {
        "id": "Wg6Sh1HQQwqk"
      },
      "source": [
        "### **Подготовка данных**"
      ]
    },
    {
      "cell_type": "code",
      "metadata": {
        "id": "iD9AJWK1Qwqk"
      },
      "source": [
        "df= pd.read_csv(\"data.csv\")"
      ],
      "execution_count": null,
      "outputs": []
    },
    {
      "cell_type": "code",
      "metadata": {
        "id": "BNd0NpZFQwqk",
        "outputId": "f17448a2-9a41-4f74-e92a-d910011482fe"
      },
      "source": [
        "df.head()"
      ],
      "execution_count": null,
      "outputs": [
        {
          "output_type": "execute_result",
          "data": {
            "text/html": [
              "<div>\n",
              "<style scoped>\n",
              "    .dataframe tbody tr th:only-of-type {\n",
              "        vertical-align: middle;\n",
              "    }\n",
              "\n",
              "    .dataframe tbody tr th {\n",
              "        vertical-align: top;\n",
              "    }\n",
              "\n",
              "    .dataframe thead th {\n",
              "        text-align: right;\n",
              "    }\n",
              "</style>\n",
              "<table border=\"1\" class=\"dataframe\">\n",
              "  <thead>\n",
              "    <tr style=\"text-align: right;\">\n",
              "      <th></th>\n",
              "      <th>shop_id</th>\n",
              "      <th>price</th>\n",
              "    </tr>\n",
              "  </thead>\n",
              "  <tbody>\n",
              "    <tr>\n",
              "      <th>0</th>\n",
              "      <td>shop_4</td>\n",
              "      <td>32.117753</td>\n",
              "    </tr>\n",
              "    <tr>\n",
              "      <th>1</th>\n",
              "      <td>shop_3</td>\n",
              "      <td>30.711370</td>\n",
              "    </tr>\n",
              "    <tr>\n",
              "      <th>2</th>\n",
              "      <td>shop_3</td>\n",
              "      <td>31.572607</td>\n",
              "    </tr>\n",
              "    <tr>\n",
              "      <th>3</th>\n",
              "      <td>shop_4</td>\n",
              "      <td>34.543840</td>\n",
              "    </tr>\n",
              "    <tr>\n",
              "      <th>4</th>\n",
              "      <td>shop_4</td>\n",
              "      <td>47.205824</td>\n",
              "    </tr>\n",
              "  </tbody>\n",
              "</table>\n",
              "</div>"
            ],
            "text/plain": [
              "  shop_id      price\n",
              "0  shop_4  32.117753\n",
              "1  shop_3  30.711370\n",
              "2  shop_3  31.572607\n",
              "3  shop_4  34.543840\n",
              "4  shop_4  47.205824"
            ]
          },
          "metadata": {
            "tags": []
          },
          "execution_count": 52
        }
      ]
    },
    {
      "cell_type": "code",
      "metadata": {
        "id": "-L_AeRZCQwql",
        "outputId": "d33b1f4d-c0d9-4596-9b52-5787dfd4e822"
      },
      "source": [
        "df.shop_id.value_counts()"
      ],
      "execution_count": null,
      "outputs": [
        {
          "output_type": "execute_result",
          "data": {
            "text/plain": [
              "shop_4    1661\n",
              "shop_6     733\n",
              "shop_3     615\n",
              "shop_2     144\n",
              "shop_5     129\n",
              "shop_1      97\n",
              "Name: shop_id, dtype: int64"
            ]
          },
          "metadata": {
            "tags": []
          },
          "execution_count": 53
        }
      ]
    },
    {
      "cell_type": "markdown",
      "metadata": {
        "id": "XiiLYyV9Qwql"
      },
      "source": [
        "##### Как мы видим, здесь участники опроса не сбалансированы между магазинами. Но мы продолжим, как будто это уравновешено"
      ]
    },
    {
      "cell_type": "markdown",
      "metadata": {
        "id": "mOWrklNGQwql"
      },
      "source": [
        "##### Давайте посмотрим, какова средняя цена в разных магазина"
      ]
    },
    {
      "cell_type": "code",
      "metadata": {
        "id": "1Wa2XhOSQwql",
        "outputId": "bb040cdf-406e-4657-899d-553998eaf6d4"
      },
      "source": [
        "df.groupby(\"shop_id\").agg({\"price\": \"mean\"})"
      ],
      "execution_count": null,
      "outputs": [
        {
          "output_type": "execute_result",
          "data": {
            "text/html": [
              "<div>\n",
              "<style scoped>\n",
              "    .dataframe tbody tr th:only-of-type {\n",
              "        vertical-align: middle;\n",
              "    }\n",
              "\n",
              "    .dataframe tbody tr th {\n",
              "        vertical-align: top;\n",
              "    }\n",
              "\n",
              "    .dataframe thead th {\n",
              "        text-align: right;\n",
              "    }\n",
              "</style>\n",
              "<table border=\"1\" class=\"dataframe\">\n",
              "  <thead>\n",
              "    <tr style=\"text-align: right;\">\n",
              "      <th></th>\n",
              "      <th>price</th>\n",
              "    </tr>\n",
              "    <tr>\n",
              "      <th>shop_id</th>\n",
              "      <th></th>\n",
              "    </tr>\n",
              "  </thead>\n",
              "  <tbody>\n",
              "    <tr>\n",
              "      <th>shop_1</th>\n",
              "      <td>36.175498</td>\n",
              "    </tr>\n",
              "    <tr>\n",
              "      <th>shop_2</th>\n",
              "      <td>35.693170</td>\n",
              "    </tr>\n",
              "    <tr>\n",
              "      <th>shop_3</th>\n",
              "      <td>35.477261</td>\n",
              "    </tr>\n",
              "    <tr>\n",
              "      <th>shop_4</th>\n",
              "      <td>43.872913</td>\n",
              "    </tr>\n",
              "    <tr>\n",
              "      <th>shop_5</th>\n",
              "      <td>37.443592</td>\n",
              "    </tr>\n",
              "    <tr>\n",
              "      <th>shop_6</th>\n",
              "      <td>40.376575</td>\n",
              "    </tr>\n",
              "  </tbody>\n",
              "</table>\n",
              "</div>"
            ],
            "text/plain": [
              "             price\n",
              "shop_id           \n",
              "shop_1   36.175498\n",
              "shop_2   35.693170\n",
              "shop_3   35.477261\n",
              "shop_4   43.872913\n",
              "shop_5   37.443592\n",
              "shop_6   40.376575"
            ]
          },
          "metadata": {
            "tags": []
          },
          "execution_count": 54
        }
      ]
    },
    {
      "cell_type": "code",
      "metadata": {
        "id": "5kxK724yQwqm",
        "outputId": "013fc5ce-f1a0-4fc0-8639-4a1ca0fc80e3"
      },
      "source": [
        "df.describe([0.01, 0.05, 0.10, 0.25, 0.50, 0.75, 0.90, 0.95, 0.99]).T"
      ],
      "execution_count": null,
      "outputs": [
        {
          "output_type": "execute_result",
          "data": {
            "text/html": [
              "<div>\n",
              "<style scoped>\n",
              "    .dataframe tbody tr th:only-of-type {\n",
              "        vertical-align: middle;\n",
              "    }\n",
              "\n",
              "    .dataframe tbody tr th {\n",
              "        vertical-align: top;\n",
              "    }\n",
              "\n",
              "    .dataframe thead th {\n",
              "        text-align: right;\n",
              "    }\n",
              "</style>\n",
              "<table border=\"1\" class=\"dataframe\">\n",
              "  <thead>\n",
              "    <tr style=\"text-align: right;\">\n",
              "      <th></th>\n",
              "      <th>count</th>\n",
              "      <th>mean</th>\n",
              "      <th>std</th>\n",
              "      <th>min</th>\n",
              "      <th>1%</th>\n",
              "      <th>5%</th>\n",
              "      <th>10%</th>\n",
              "      <th>25%</th>\n",
              "      <th>50%</th>\n",
              "      <th>75%</th>\n",
              "      <th>90%</th>\n",
              "      <th>95%</th>\n",
              "      <th>99%</th>\n",
              "      <th>max</th>\n",
              "    </tr>\n",
              "  </thead>\n",
              "  <tbody>\n",
              "    <tr>\n",
              "      <th>price</th>\n",
              "      <td>3379.0</td>\n",
              "      <td>40.771387</td>\n",
              "      <td>19.730179</td>\n",
              "      <td>10.0</td>\n",
              "      <td>30.0</td>\n",
              "      <td>30.0</td>\n",
              "      <td>30.0</td>\n",
              "      <td>31.802522</td>\n",
              "      <td>34.744389</td>\n",
              "      <td>40.569827</td>\n",
              "      <td>56.921335</td>\n",
              "      <td>74.453248</td>\n",
              "      <td>135.848659</td>\n",
              "      <td>205.052944</td>\n",
              "    </tr>\n",
              "  </tbody>\n",
              "</table>\n",
              "</div>"
            ],
            "text/plain": [
              "        count       mean        std   min    1%    5%   10%        25%  \\\n",
              "price  3379.0  40.771387  19.730179  10.0  30.0  30.0  30.0  31.802522   \n",
              "\n",
              "             50%        75%        90%        95%         99%         max  \n",
              "price  34.744389  40.569827  56.921335  74.453248  135.848659  205.052944  "
            ]
          },
          "metadata": {
            "tags": []
          },
          "execution_count": 55
        }
      ]
    },
    {
      "cell_type": "markdown",
      "metadata": {
        "id": "0xtIC5ZwQwqm"
      },
      "source": [
        "##### Когда мы смотрим на дисперсию ценовой переменной, мы видим, что наше предположение относительно ответов участников опроса кажется правильным, за некоторыми исключениями.\n",
        "\n",
        "\n",
        "##### Избавимся от цен выше 100"
      ]
    },
    {
      "cell_type": "code",
      "metadata": {
        "id": "uaz-rzn1Qwqm"
      },
      "source": [
        "df=df[df.price <= 100]"
      ],
      "execution_count": null,
      "outputs": []
    },
    {
      "cell_type": "code",
      "metadata": {
        "id": "Xm2aC02QQwqm",
        "outputId": "a8c37ec0-4c37-4fc4-8edc-b2ca2305350d"
      },
      "source": [
        "df.describe([0.01, 0.05, 0.10, 0.25, 0.50, 0.75, 0.90, 0.95, 0.99]).T"
      ],
      "execution_count": null,
      "outputs": [
        {
          "output_type": "execute_result",
          "data": {
            "text/html": [
              "<div>\n",
              "<style scoped>\n",
              "    .dataframe tbody tr th:only-of-type {\n",
              "        vertical-align: middle;\n",
              "    }\n",
              "\n",
              "    .dataframe tbody tr th {\n",
              "        vertical-align: top;\n",
              "    }\n",
              "\n",
              "    .dataframe thead th {\n",
              "        text-align: right;\n",
              "    }\n",
              "</style>\n",
              "<table border=\"1\" class=\"dataframe\">\n",
              "  <thead>\n",
              "    <tr style=\"text-align: right;\">\n",
              "      <th></th>\n",
              "      <th>count</th>\n",
              "      <th>mean</th>\n",
              "      <th>std</th>\n",
              "      <th>min</th>\n",
              "      <th>1%</th>\n",
              "      <th>5%</th>\n",
              "      <th>10%</th>\n",
              "      <th>25%</th>\n",
              "      <th>50%</th>\n",
              "      <th>75%</th>\n",
              "      <th>90%</th>\n",
              "      <th>95%</th>\n",
              "      <th>99%</th>\n",
              "      <th>max</th>\n",
              "    </tr>\n",
              "  </thead>\n",
              "  <tbody>\n",
              "    <tr>\n",
              "      <th>price</th>\n",
              "      <td>3292.0</td>\n",
              "      <td>38.284972</td>\n",
              "      <td>11.657494</td>\n",
              "      <td>10.0</td>\n",
              "      <td>30.0</td>\n",
              "      <td>30.0</td>\n",
              "      <td>30.0</td>\n",
              "      <td>31.672294</td>\n",
              "      <td>34.678475</td>\n",
              "      <td>38.528301</td>\n",
              "      <td>53.188295</td>\n",
              "      <td>65.198083</td>\n",
              "      <td>88.622812</td>\n",
              "      <td>99.169972</td>\n",
              "    </tr>\n",
              "  </tbody>\n",
              "</table>\n",
              "</div>"
            ],
            "text/plain": [
              "        count       mean        std   min    1%    5%   10%        25%  \\\n",
              "price  3292.0  38.284972  11.657494  10.0  30.0  30.0  30.0  31.672294   \n",
              "\n",
              "             50%        75%        90%        95%        99%        max  \n",
              "price  34.678475  38.528301  53.188295  65.198083  88.622812  99.169972  "
            ]
          },
          "metadata": {
            "tags": []
          },
          "execution_count": 57
        }
      ]
    },
    {
      "cell_type": "markdown",
      "metadata": {
        "id": "fG7wxXfkQwqn"
      },
      "source": [
        "##### Разделяем магазины для тестирования"
      ]
    },
    {
      "cell_type": "code",
      "metadata": {
        "id": "NmLb-tbmQwqn"
      },
      "source": [
        "shop_1 = df[(df[\"shop_id\"] == \"shop_1\")]\n",
        "shop_2 = df[(df[\"shop_id\"] == \"shop_2\")]\n",
        "shop_3 = df[(df[\"shop_id\"] == \"shop_3\")]\n",
        "shop_4 = df[(df[\"shop_id\"] == \"shop_4\")]\n",
        "shop_5 = df[(df[\"shop_id\"] == \"shop_5\")]\n",
        "shop_6 = df[(df[\"shop_id\"] == \"shop_6\")]\n"
      ],
      "execution_count": null,
      "outputs": []
    },
    {
      "cell_type": "markdown",
      "metadata": {
        "id": "MMNSxFHmQwqn"
      },
      "source": [
        "### **A/B Testing**"
      ]
    },
    {
      "cell_type": "markdown",
      "metadata": {
        "id": "K7ubD4T4Qwqn"
      },
      "source": [
        "##### Чтобы выбрать параметрический или непараметрический тест, нам необходимо проверить распределение и вариативность значений каждого магазина.\n",
        "##### Если значения нормально распределены. Мы будем использовать независимый t-тест (параметрический). В противном случае мы будем использовать U-критерий Манна – Уитни (непараметрический).\n"
      ]
    },
    {
      "cell_type": "markdown",
      "metadata": {
        "id": "yLCyGwKZQwqn"
      },
      "source": [
        "#### **Тест нормального распределения**"
      ]
    },
    {
      "cell_type": "markdown",
      "metadata": {
        "id": "X0B83dPyQwqn"
      },
      "source": [
        "##### Наши гипотезы\n",
        "##### H0 = Ценовая переменная имеет нормальное распределение\n",
        "##### H1 = Ценовая переменная обычно не распределяется"
      ]
    },
    {
      "cell_type": "code",
      "metadata": {
        "id": "z8GOYp3TQwqo",
        "outputId": "07e22919-ef19-4c18-e73f-e1d2306dcf0d"
      },
      "source": [
        "shop_list = [shop_1,shop_2,shop_3,shop_4,shop_5,shop_6]\n",
        "for i in shop_list:\n",
        "    test_statistics, pvalue = shapiro(i[\"price\"])\n",
        "    print('Test statistics = %.4f, p-value = %.4f' % (test_statistics, pvalue))"
      ],
      "execution_count": null,
      "outputs": [
        {
          "output_type": "stream",
          "text": [
            "Test statistics = 0.6190, p-value = 0.0000\n",
            "Test statistics = 0.5513, p-value = 0.0000\n",
            "Test statistics = 0.4935, p-value = 0.0000\n",
            "Test statistics = 0.7639, p-value = 0.0000\n",
            "Test statistics = 0.6382, p-value = 0.0000\n",
            "Test statistics = 0.6631, p-value = 0.0000\n"
          ],
          "name": "stdout"
        }
      ]
    },
    {
      "cell_type": "markdown",
      "metadata": {
        "id": "A92ok_xqQwqo"
      },
      "source": [
        "##### Мы отвергли гипотезу H0. Потому что, как вы можете видеть, p-значения меньше \"0,05\"."
      ]
    },
    {
      "cell_type": "markdown",
      "metadata": {
        "id": "dxxHApTNQwqo"
      },
      "source": [
        "##### В этом случае необходимо использовать U-критерий Манна – Уитни. Если данные не распределены нормально, нам не нужно проверять однородность дисперсии."
      ]
    },
    {
      "cell_type": "markdown",
      "metadata": {
        "id": "WHJfU04gQwqo"
      },
      "source": [
        "#### Mann–Whitney U test"
      ]
    },
    {
      "cell_type": "markdown",
      "metadata": {
        "id": "zStmLeV-Qwqp"
      },
      "source": [
        "##### Наши гипотезы\n",
        "##### H0 = Статистически нет разницы между ценами в магазинах\n",
        "##### H1 = По статистике существует разница между ценами в магазинах"
      ]
    },
    {
      "cell_type": "code",
      "metadata": {
        "id": "o643T_hfQwqp"
      },
      "source": [
        "shop_list = [shop_1,shop_2,shop_3,shop_4,shop_5,shop_6] \n",
        "shop_names = [\"shop_1\",\"shop_2\",\"shop_3\",\"shop_4\",\"shop_5\",\"shop_6\"] \n",
        "test_stat = []\n",
        "p_values = []\n",
        "first_shop =[]\n",
        "second_shop = []\n",
        "for i in range(0, len(shop_list)):\n",
        "    for j in range(0, len(shop_list)):\n",
        "        if i == j:                     \n",
        "            continue\n",
        "        test_statistics, pvalue = stats.mannwhitneyu(shop_list[i][\"price\"], shop_list[j][\"price\"])\n",
        "        test_stat.append(test_statistics)\n",
        "        p_values.append(pvalue.round(4))\n",
        "        first_shop.append(shop_names[i]) \n",
        "        second_shop.append(shop_names[j])\n",
        "        \n",
        "p_value_table = pd.DataFrame({\"first_shop\":first_shop,\"second_shop\":second_shop,\"test_stat\": test_stat, \"p_values\":p_values})\n"
      ],
      "execution_count": null,
      "outputs": []
    },
    {
      "cell_type": "markdown",
      "metadata": {
        "id": "qzpC8Qp1Qwqp"
      },
      "source": [
        "##### Давайте посмотрим, как выглядит наша таблица p_value"
      ]
    },
    {
      "cell_type": "code",
      "metadata": {
        "id": "LNP9U2yJQwqp",
        "outputId": "1ed8f62d-d131-4a35-bef0-ff3fd6f62976"
      },
      "source": [
        "p_value_table"
      ],
      "execution_count": null,
      "outputs": [
        {
          "output_type": "execute_result",
          "data": {
            "text/html": [
              "<div>\n",
              "<style scoped>\n",
              "    .dataframe tbody tr th:only-of-type {\n",
              "        vertical-align: middle;\n",
              "    }\n",
              "\n",
              "    .dataframe tbody tr th {\n",
              "        vertical-align: top;\n",
              "    }\n",
              "\n",
              "    .dataframe thead th {\n",
              "        text-align: right;\n",
              "    }\n",
              "</style>\n",
              "<table border=\"1\" class=\"dataframe\">\n",
              "  <thead>\n",
              "    <tr style=\"text-align: right;\">\n",
              "      <th></th>\n",
              "      <th>first_shop</th>\n",
              "      <th>second_shop</th>\n",
              "      <th>test_stat</th>\n",
              "      <th>p_values</th>\n",
              "    </tr>\n",
              "  </thead>\n",
              "  <tbody>\n",
              "    <tr>\n",
              "      <th>0</th>\n",
              "      <td>shop_1</td>\n",
              "      <td>shop_2</td>\n",
              "      <td>5010.0</td>\n",
              "      <td>0.0001</td>\n",
              "    </tr>\n",
              "    <tr>\n",
              "      <th>1</th>\n",
              "      <td>shop_1</td>\n",
              "      <td>shop_3</td>\n",
              "      <td>29424.0</td>\n",
              "      <td>0.4252</td>\n",
              "    </tr>\n",
              "    <tr>\n",
              "      <th>2</th>\n",
              "      <td>shop_1</td>\n",
              "      <td>shop_4</td>\n",
              "      <td>60158.0</td>\n",
              "      <td>0.0001</td>\n",
              "    </tr>\n",
              "    <tr>\n",
              "      <th>3</th>\n",
              "      <td>shop_1</td>\n",
              "      <td>shop_5</td>\n",
              "      <td>6121.0</td>\n",
              "      <td>0.3905</td>\n",
              "    </tr>\n",
              "    <tr>\n",
              "      <th>4</th>\n",
              "      <td>shop_1</td>\n",
              "      <td>shop_6</td>\n",
              "      <td>34006.0</td>\n",
              "      <td>0.4124</td>\n",
              "    </tr>\n",
              "    <tr>\n",
              "      <th>5</th>\n",
              "      <td>shop_2</td>\n",
              "      <td>shop_1</td>\n",
              "      <td>5010.0</td>\n",
              "      <td>0.0001</td>\n",
              "    </tr>\n",
              "    <tr>\n",
              "      <th>6</th>\n",
              "      <td>shop_2</td>\n",
              "      <td>shop_3</td>\n",
              "      <td>31313.0</td>\n",
              "      <td>0.0000</td>\n",
              "    </tr>\n",
              "    <tr>\n",
              "      <th>7</th>\n",
              "      <td>shop_2</td>\n",
              "      <td>shop_4</td>\n",
              "      <td>65110.0</td>\n",
              "      <td>0.0000</td>\n",
              "    </tr>\n",
              "    <tr>\n",
              "      <th>8</th>\n",
              "      <td>shop_2</td>\n",
              "      <td>shop_5</td>\n",
              "      <td>6575.5</td>\n",
              "      <td>0.0000</td>\n",
              "    </tr>\n",
              "    <tr>\n",
              "      <th>9</th>\n",
              "      <td>shop_2</td>\n",
              "      <td>shop_6</td>\n",
              "      <td>36586.0</td>\n",
              "      <td>0.0000</td>\n",
              "    </tr>\n",
              "    <tr>\n",
              "      <th>10</th>\n",
              "      <td>shop_3</td>\n",
              "      <td>shop_1</td>\n",
              "      <td>29424.0</td>\n",
              "      <td>0.4252</td>\n",
              "    </tr>\n",
              "    <tr>\n",
              "      <th>11</th>\n",
              "      <td>shop_3</td>\n",
              "      <td>shop_2</td>\n",
              "      <td>31313.0</td>\n",
              "      <td>0.0000</td>\n",
              "    </tr>\n",
              "    <tr>\n",
              "      <th>12</th>\n",
              "      <td>shop_3</td>\n",
              "      <td>shop_4</td>\n",
              "      <td>370034.5</td>\n",
              "      <td>0.0000</td>\n",
              "    </tr>\n",
              "    <tr>\n",
              "      <th>13</th>\n",
              "      <td>shop_3</td>\n",
              "      <td>shop_5</td>\n",
              "      <td>38807.0</td>\n",
              "      <td>0.3597</td>\n",
              "    </tr>\n",
              "    <tr>\n",
              "      <th>14</th>\n",
              "      <td>shop_3</td>\n",
              "      <td>shop_6</td>\n",
              "      <td>213697.0</td>\n",
              "      <td>0.2546</td>\n",
              "    </tr>\n",
              "    <tr>\n",
              "      <th>15</th>\n",
              "      <td>shop_4</td>\n",
              "      <td>shop_1</td>\n",
              "      <td>60158.0</td>\n",
              "      <td>0.0001</td>\n",
              "    </tr>\n",
              "    <tr>\n",
              "      <th>16</th>\n",
              "      <td>shop_4</td>\n",
              "      <td>shop_2</td>\n",
              "      <td>65110.0</td>\n",
              "      <td>0.0000</td>\n",
              "    </tr>\n",
              "    <tr>\n",
              "      <th>17</th>\n",
              "      <td>shop_4</td>\n",
              "      <td>shop_3</td>\n",
              "      <td>370034.5</td>\n",
              "      <td>0.0000</td>\n",
              "    </tr>\n",
              "    <tr>\n",
              "      <th>18</th>\n",
              "      <td>shop_4</td>\n",
              "      <td>shop_5</td>\n",
              "      <td>83360.5</td>\n",
              "      <td>0.0001</td>\n",
              "    </tr>\n",
              "    <tr>\n",
              "      <th>19</th>\n",
              "      <td>shop_4</td>\n",
              "      <td>shop_6</td>\n",
              "      <td>454601.0</td>\n",
              "      <td>0.0000</td>\n",
              "    </tr>\n",
              "    <tr>\n",
              "      <th>20</th>\n",
              "      <td>shop_5</td>\n",
              "      <td>shop_1</td>\n",
              "      <td>6121.0</td>\n",
              "      <td>0.3905</td>\n",
              "    </tr>\n",
              "    <tr>\n",
              "      <th>21</th>\n",
              "      <td>shop_5</td>\n",
              "      <td>shop_2</td>\n",
              "      <td>6575.5</td>\n",
              "      <td>0.0000</td>\n",
              "    </tr>\n",
              "    <tr>\n",
              "      <th>22</th>\n",
              "      <td>shop_5</td>\n",
              "      <td>shop_3</td>\n",
              "      <td>38807.0</td>\n",
              "      <td>0.3597</td>\n",
              "    </tr>\n",
              "    <tr>\n",
              "      <th>23</th>\n",
              "      <td>shop_5</td>\n",
              "      <td>shop_4</td>\n",
              "      <td>83360.5</td>\n",
              "      <td>0.0001</td>\n",
              "    </tr>\n",
              "    <tr>\n",
              "      <th>24</th>\n",
              "      <td>shop_5</td>\n",
              "      <td>shop_6</td>\n",
              "      <td>45675.0</td>\n",
              "      <td>0.4710</td>\n",
              "    </tr>\n",
              "    <tr>\n",
              "      <th>25</th>\n",
              "      <td>shop_6</td>\n",
              "      <td>shop_1</td>\n",
              "      <td>34006.0</td>\n",
              "      <td>0.4124</td>\n",
              "    </tr>\n",
              "    <tr>\n",
              "      <th>26</th>\n",
              "      <td>shop_6</td>\n",
              "      <td>shop_2</td>\n",
              "      <td>36586.0</td>\n",
              "      <td>0.0000</td>\n",
              "    </tr>\n",
              "    <tr>\n",
              "      <th>27</th>\n",
              "      <td>shop_6</td>\n",
              "      <td>shop_3</td>\n",
              "      <td>213697.0</td>\n",
              "      <td>0.2546</td>\n",
              "    </tr>\n",
              "    <tr>\n",
              "      <th>28</th>\n",
              "      <td>shop_6</td>\n",
              "      <td>shop_4</td>\n",
              "      <td>454601.0</td>\n",
              "      <td>0.0000</td>\n",
              "    </tr>\n",
              "    <tr>\n",
              "      <th>29</th>\n",
              "      <td>shop_6</td>\n",
              "      <td>shop_5</td>\n",
              "      <td>45675.0</td>\n",
              "      <td>0.4710</td>\n",
              "    </tr>\n",
              "  </tbody>\n",
              "</table>\n",
              "</div>"
            ],
            "text/plain": [
              "   first_shop second_shop  test_stat  p_values\n",
              "0      shop_1      shop_2     5010.0    0.0001\n",
              "1      shop_1      shop_3    29424.0    0.4252\n",
              "2      shop_1      shop_4    60158.0    0.0001\n",
              "3      shop_1      shop_5     6121.0    0.3905\n",
              "4      shop_1      shop_6    34006.0    0.4124\n",
              "5      shop_2      shop_1     5010.0    0.0001\n",
              "6      shop_2      shop_3    31313.0    0.0000\n",
              "7      shop_2      shop_4    65110.0    0.0000\n",
              "8      shop_2      shop_5     6575.5    0.0000\n",
              "9      shop_2      shop_6    36586.0    0.0000\n",
              "10     shop_3      shop_1    29424.0    0.4252\n",
              "11     shop_3      shop_2    31313.0    0.0000\n",
              "12     shop_3      shop_4   370034.5    0.0000\n",
              "13     shop_3      shop_5    38807.0    0.3597\n",
              "14     shop_3      shop_6   213697.0    0.2546\n",
              "15     shop_4      shop_1    60158.0    0.0001\n",
              "16     shop_4      shop_2    65110.0    0.0000\n",
              "17     shop_4      shop_3   370034.5    0.0000\n",
              "18     shop_4      shop_5    83360.5    0.0001\n",
              "19     shop_4      shop_6   454601.0    0.0000\n",
              "20     shop_5      shop_1     6121.0    0.3905\n",
              "21     shop_5      shop_2     6575.5    0.0000\n",
              "22     shop_5      shop_3    38807.0    0.3597\n",
              "23     shop_5      shop_4    83360.5    0.0001\n",
              "24     shop_5      shop_6    45675.0    0.4710\n",
              "25     shop_6      shop_1    34006.0    0.4124\n",
              "26     shop_6      shop_2    36586.0    0.0000\n",
              "27     shop_6      shop_3   213697.0    0.2546\n",
              "28     shop_6      shop_4   454601.0    0.0000\n",
              "29     shop_6      shop_5    45675.0    0.4710"
            ]
          },
          "metadata": {
            "tags": []
          },
          "execution_count": 61
        }
      ]
    },
    {
      "cell_type": "markdown",
      "metadata": {
        "id": "FQ0ojsR3Qwqp"
      },
      "source": [
        "##### Как видите, в таблице представлены все возможные комбинации сравнения цен между магазинами.\n",
        "##### Если вы думаете о дублированных записях выше, не волнуйтесь, это было специально.\n",
        "##### Мы будем использовать таблицу как есть"
      ]
    },
    {
      "cell_type": "code",
      "metadata": {
        "id": "DUc-gd9lQwqq",
        "outputId": "bf909f99-1306-4db9-ac0b-a5414bee9313"
      },
      "source": [
        "p_value_table.groupby(\"first_shop\").agg({\"p_values\": \"mean\"})"
      ],
      "execution_count": null,
      "outputs": [
        {
          "output_type": "execute_result",
          "data": {
            "text/html": [
              "<div>\n",
              "<style scoped>\n",
              "    .dataframe tbody tr th:only-of-type {\n",
              "        vertical-align: middle;\n",
              "    }\n",
              "\n",
              "    .dataframe tbody tr th {\n",
              "        vertical-align: top;\n",
              "    }\n",
              "\n",
              "    .dataframe thead th {\n",
              "        text-align: right;\n",
              "    }\n",
              "</style>\n",
              "<table border=\"1\" class=\"dataframe\">\n",
              "  <thead>\n",
              "    <tr style=\"text-align: right;\">\n",
              "      <th></th>\n",
              "      <th>p_values</th>\n",
              "    </tr>\n",
              "    <tr>\n",
              "      <th>first_shop</th>\n",
              "      <th></th>\n",
              "    </tr>\n",
              "  </thead>\n",
              "  <tbody>\n",
              "    <tr>\n",
              "      <th>shop_1</th>\n",
              "      <td>0.24566</td>\n",
              "    </tr>\n",
              "    <tr>\n",
              "      <th>shop_2</th>\n",
              "      <td>0.00002</td>\n",
              "    </tr>\n",
              "    <tr>\n",
              "      <th>shop_3</th>\n",
              "      <td>0.20790</td>\n",
              "    </tr>\n",
              "    <tr>\n",
              "      <th>shop_4</th>\n",
              "      <td>0.00004</td>\n",
              "    </tr>\n",
              "    <tr>\n",
              "      <th>shop_5</th>\n",
              "      <td>0.24426</td>\n",
              "    </tr>\n",
              "    <tr>\n",
              "      <th>shop_6</th>\n",
              "      <td>0.22760</td>\n",
              "    </tr>\n",
              "  </tbody>\n",
              "</table>\n",
              "</div>"
            ],
            "text/plain": [
              "            p_values\n",
              "first_shop          \n",
              "shop_1       0.24566\n",
              "shop_2       0.00002\n",
              "shop_3       0.20790\n",
              "shop_4       0.00004\n",
              "shop_5       0.24426\n",
              "shop_6       0.22760"
            ]
          },
          "metadata": {
            "tags": []
          },
          "execution_count": 62
        }
      ]
    },
    {
      "cell_type": "markdown",
      "metadata": {
        "id": "Br9qK5DFQwqq"
      },
      "source": [
        "##### Здесь, как вы можете видеть, мы взяли среднее значение p, чтобы понять, насколько эти магазины отличаются друг от друга по цене.\n",
        "##### Если значение p меньше «0,05», мы можем сказать, что существует значительная разница между магазинами, как мы заявили в нашем гипотезе.\n",
        "##### Основываясь на этой информации, по статистике shop_2 и shop_4 отличаются от других магазинов по цене. И эта разница не может быть случайной.\n",
        "##### По другим магазинам нельзя сказать.\n",
        "##### Теперь мы знаем, что два вышеупомянутых магазина отличаются от других магазинов ценой, которую покупатели готовы платить.\n",
        "#### Поскольку наша цель - обеспечить максимальную прибыль, нам необходимо иметь разные цены в этих двух магазинах, поскольку они не похожи ни на один из магазинов, включая друг друга (проверьте строку 7 таблицы значений p).\n",
        "#### Для других магазинов, которые статистически не отличаются друг от друга по цене, мы можем установить такую ​​же цену.\n",
        "### В соответствии с политикой компании мы можем решить, что цена товара должна быть одинаковой во всех магазинах. Но мы этого делать не будем.\n",
        "\n",
        "\n"
      ]
    },
    {
      "cell_type": "markdown",
      "metadata": {
        "id": "3w7qRn_KQwqq"
      },
      "source": [
        "### **Доверительные интервалы**"
      ]
    },
    {
      "cell_type": "markdown",
      "metadata": {
        "id": "DIb2uaSoQwqr"
      },
      "source": [
        "##### Поскольку мы решили продолжить с разными ценами, нам нужно определить разные доверительные интервалы."
      ]
    },
    {
      "cell_type": "code",
      "metadata": {
        "id": "ZF5oZp-xQwqr",
        "outputId": "8b90a057-e4cf-4136-cb2a-53ab777b4324"
      },
      "source": [
        "alike_shops = [\"shop_1\", \"shop_3\",\"shop_5\", \"shop_6\"] # одинаковые магазинов с цегами\n",
        "shop_1356 = df[(df[\"shop_id\"].isin(alike_shops))] # здесь мы собираем их, чтобы вычислить доверительный интервал\n",
        "shop_1356_con_int =sms.DescrStatsW(shop_1356[\"price\"]).tconfint_mean() # здесь вычисляется доверительный интервал\n",
        "shop_1356_con_int"
      ],
      "execution_count": null,
      "outputs": [
        {
          "output_type": "execute_result",
          "data": {
            "text/plain": [
              "(35.803488556367476, 36.7997387818449)"
            ]
          },
          "metadata": {
            "tags": []
          },
          "execution_count": 63
        }
      ]
    },
    {
      "cell_type": "markdown",
      "metadata": {
        "id": "bRlGZfC3Qwqr"
      },
      "source": [
        "##### Здесь мы рассчитали доверительный интервал для одинаковых магазинов."
      ]
    },
    {
      "cell_type": "code",
      "metadata": {
        "id": "6C7kajYzQwqr",
        "outputId": "de7216c5-696d-47a0-9559-ac16999aeb39"
      },
      "source": [
        "shop_2_con_int = sms.DescrStatsW(shop_2[\"price\"]).tconfint_mean() \n",
        "shop_2_con_int"
      ],
      "execution_count": null,
      "outputs": [
        {
          "output_type": "execute_result",
          "data": {
            "text/plain": [
              "(33.244221031281384, 36.24683640338621)"
            ]
          },
          "metadata": {
            "tags": []
          },
          "execution_count": 64
        }
      ]
    },
    {
      "cell_type": "markdown",
      "metadata": {
        "id": "1A65iT6oQwqr"
      },
      "source": [
        "##### Здесь мы рассчитали доверительный интервал для shop_2"
      ]
    },
    {
      "cell_type": "code",
      "metadata": {
        "id": "U-aTI1gVQwqr",
        "outputId": "51d3f536-a827-4e23-c8b6-c31a62b4aba2"
      },
      "source": [
        "shop_4_con_int = sms.DescrStatsW(shop_4[\"price\"]).tconfint_mean()\n",
        "shop_4_con_int"
      ],
      "execution_count": null,
      "outputs": [
        {
          "output_type": "execute_result",
          "data": {
            "text/plain": [
              "(39.891734916786355, 41.15449478737718)"
            ]
          },
          "metadata": {
            "tags": []
          },
          "execution_count": 65
        }
      ]
    },
    {
      "cell_type": "markdown",
      "metadata": {
        "id": "06PDybfFQwqs"
      },
      "source": [
        "##### Здесь мы рассчитали доверительный интервал для shop_4"
      ]
    },
    {
      "cell_type": "markdown",
      "metadata": {
        "id": "v0fsgxa_Qwqs"
      },
      "source": [
        "### **Моделирование прибыли**"
      ]
    },
    {
      "cell_type": "markdown",
      "metadata": {
        "id": "5ZhY_ibSQwqs"
      },
      "source": [
        "#### Рассчитаем прибыль с минимальным и максимальным значениями доверительных интервалов.\r\n",
        "#### Сначала рассчитаем прибыль с максимальным значением доверительных интервалов."
      ]
    },
    {
      "cell_type": "markdown",
      "metadata": {
        "id": "qrhlvYeRQwqs"
      },
      "source": [
        "##### Shop_1356 Расчет выручки"
      ]
    },
    {
      "cell_type": "code",
      "metadata": {
        "id": "RVBv_jGgQwqs",
        "outputId": "6dc05866-5aa3-4206-8593-fd69ef2b2611"
      },
      "source": [
        "freq_1356 = len(shop_1356[shop_1356[\"price\"] >= shop_1356_con_int[1]]) # здесь мы определили, сколько людей готовы платить больше, чем наш максимальный доверительный интервал\n",
        "revenue_1356 = freq_1356 * shop_1356_con_int[1] # здесь мы умножили то, что нашли выше, на максимальный доверительный интервал, чтобы рассчитать доход\n",
        "print(f'Revenue: {revenue_1356}')"
      ],
      "execution_count": null,
      "outputs": [
        {
          "output_type": "stream",
          "text": [
            "Revenue: 10524.725291607641\n"
          ],
          "name": "stdout"
        }
      ]
    },
    {
      "cell_type": "markdown",
      "metadata": {
        "id": "pxCiOLa4Qwqt"
      },
      "source": [
        "##### Расчет выручки Shop_2"
      ]
    },
    {
      "cell_type": "code",
      "metadata": {
        "id": "TO8mA0VtQwqt",
        "outputId": "11745bb8-a71c-4ef7-869c-044f95711541"
      },
      "source": [
        "freq_2 = len(shop_2[shop_2[\"price\"] >= shop_2_con_int[1]]) # здесь мы определили, сколько людей готовы платить больше, чем наш максимальный доверительный интервал\n",
        "revenue_2 = freq_2 * shop_2_con_int[1] # здесь мы умножили то, что нашли выше, на максимальный доверительный интервал, чтобы рассчитать доход\n",
        "print(f'Revenue: {revenue_2}')"
      ],
      "execution_count": null,
      "outputs": [
        {
          "output_type": "stream",
          "text": [
            "Revenue: 724.9367280677243\n"
          ],
          "name": "stdout"
        }
      ]
    },
    {
      "cell_type": "markdown",
      "metadata": {
        "id": "UVw9EM3bQwqt"
      },
      "source": [
        "##### Shop_1356 Расчет выручки"
      ]
    },
    {
      "cell_type": "code",
      "metadata": {
        "id": "AY7D2EEBQwqt",
        "outputId": "2f917bc8-a7e0-44c9-988f-5e1a70cab936"
      },
      "source": [
        "freq_4 = len(shop_4[shop_4[\"price\"] >= shop_4_con_int[1]]) # здесь мы определили, сколько людей готовы платить больше, чем наш максимальный доверительный интервал\n",
        "revenue_4 = freq_4 * shop_4_con_int[1] # здесь мы умножили то, что нашли выше, на максимальный доверительный интервал, чтобы рассчитать доход\n",
        "print(f'Revenue: {revenue_4}')"
      ],
      "execution_count": null,
      "outputs": [
        {
          "output_type": "stream",
          "text": [
            "Revenue: 20412.629414539082\n"
          ],
          "name": "stdout"
        }
      ]
    },
    {
      "cell_type": "code",
      "metadata": {
        "id": "OVQC8m21Qwqu",
        "outputId": "445d0abd-8b12-4039-f1b2-10978ea0ac25"
      },
      "source": [
        "total_revenue_with_max = revenue_1356 + revenue_2 + revenue_4 # здесь вычисляем общий доход\n",
        "total_revenue_with_max.round(2)"
      ],
      "execution_count": null,
      "outputs": [
        {
          "output_type": "execute_result",
          "data": {
            "text/plain": [
              "31662.29"
            ]
          },
          "metadata": {
            "tags": []
          },
          "execution_count": 69
        }
      ]
    },
    {
      "cell_type": "markdown",
      "metadata": {
        "id": "LluD9dNsQwqu"
      },
      "source": [
        "##### Как видите, наш общий доход составляет 31662,29 для сценария, в котором мы решили использовать максимальное значение доверительного интервала"
      ]
    },
    {
      "cell_type": "markdown",
      "metadata": {
        "id": "0GPHQTpnQwqu"
      },
      "source": [
        "##### **Теперь посчитаем прибыль с минимальным значением доверительных интервалов.**"
      ]
    },
    {
      "cell_type": "markdown",
      "metadata": {
        "id": "Xg-48uurQwqv"
      },
      "source": [
        "##### Shop_1356 Расчет выручки"
      ]
    },
    {
      "cell_type": "code",
      "metadata": {
        "id": "_d4zoFbmQwqv",
        "outputId": "6e5bf0d8-5d3a-4152-ce9d-7110dc46f09d"
      },
      "source": [
        "freq_1356 = len(shop_1356[shop_1356[\"price\"] >= shop_1356_con_int[0]]) #  здесь мы определили, сколько людей готовы платить больше, чем наш максимальный доверительный интервал \n",
        "revenue_1356 = freq_1356 * shop_1356_con_int[0] # здесь мы умножили то, что нашли на максимальный доверительный интервалб чтобы рассчитать доход\n",
        "print(f'Revenue: {revenue_1356}')"
      ],
      "execution_count": null,
      "outputs": [
        {
          "output_type": "stream",
          "text": [
            "Revenue: 12602.827971841352\n"
          ],
          "name": "stdout"
        }
      ]
    },
    {
      "cell_type": "markdown",
      "metadata": {
        "id": "thKtU224Qwqv"
      },
      "source": [
        "##### Расчет выручки Shop_2"
      ]
    },
    {
      "cell_type": "code",
      "metadata": {
        "id": "Wk0DJ0ZIQwqv",
        "outputId": "79a442de-3b95-409b-f1c8-ecf434a21c63"
      },
      "source": [
        "freq_2 = len(shop_2[shop_2[\"price\"] >= shop_2_con_int[0]]) # здесь мы определили, сколько людей готовы платить больше, чем наш максимальный доверительный интервал \n",
        "revenue_2 = freq_2 * shop_2_con_int[0] # здесь мы умножили то, что нашли на максимальный доверительный интервалб чтобы рассчитать доход\n",
        "print(f'Revenue: {revenue_2}')"
      ],
      "execution_count": null,
      "outputs": [
        {
          "output_type": "stream",
          "text": [
            "Revenue: 1662.2110515640693\n"
          ],
          "name": "stdout"
        }
      ]
    },
    {
      "cell_type": "markdown",
      "metadata": {
        "id": "EE42o2zjQwqv"
      },
      "source": [
        "##### Shop_1356 Расчет выручки"
      ]
    },
    {
      "cell_type": "code",
      "metadata": {
        "id": "PNUFUS1nQwqv",
        "outputId": "abb073fa-9ff9-4a5a-dad7-1ade7e47ede8"
      },
      "source": [
        "freq_4 = len(shop_4[shop_4[\"price\"] >= shop_4_con_int[0]]) # здесь мы определили, сколько людей готовы платить больше, чем наш максимальный доверительный интервал\n",
        "revenue_4 = freq_4 * shop_4_con_int[0] # здесь мы умножили то, что нашли выше, на максимальный доверительный интервал, чтобы рассчитать доход\n",
        "print(f'Revenue: {revenue_4}')"
      ],
      "execution_count": null,
      "outputs": [
        {
          "output_type": "stream",
          "text": [
            "Revenue: 21780.88726456535\n"
          ],
          "name": "stdout"
        }
      ]
    },
    {
      "cell_type": "code",
      "metadata": {
        "id": "tPAz_rHSQwqw",
        "outputId": "f5e30d9a-44b1-41ef-af2d-f80bfcec5a56"
      },
      "source": [
        "total_revenue_with_min = revenue_1356 + revenue_2 + revenue_4 # вычисляем общий доход\n",
        "total_revenue_with_min.round(2)"
      ],
      "execution_count": null,
      "outputs": [
        {
          "output_type": "execute_result",
          "data": {
            "text/plain": [
              "36045.93"
            ]
          },
          "metadata": {
            "tags": []
          },
          "execution_count": 73
        }
      ]
    },
    {
      "cell_type": "markdown",
      "metadata": {
        "id": "GQXM7kPiQwqw"
      },
      "source": [
        "##### Как видите, наш общий доход составляет 36045,93 для сценария, в котором мы решили использовать минимальное значение доверительного интервала."
      ]
    },
    {
      "cell_type": "markdown",
      "metadata": {
        "id": "QWXmib2LQwqw"
      },
      "source": [
        "### **Выводы**"
      ]
    },
    {
      "cell_type": "markdown",
      "metadata": {
        "id": "U_irX1bHQwqx"
      },
      "source": [
        "##### В этом проекте нашей целью было установить оптимальную цену на конкретный товар, который продается в разных магазинах.\n",
        "##### Мы оценили результаты опроса, применив A / B-тест, чтобы увидеть, есть ли статистически значимая разница между ценами, которые люди хотят платить в магазинах.\n",
        "##### Согласно результатам A / B-теста, мы обнаружили, что 2 магазина не похожи ни на какие другие.\n",
        "##### Затем мы определили доверительные интервалы для разных магазинов.\n",
        "##### И наконец, моделируем продажи по максимальному и минимальному значениям доверительного интервала.\n",
        "##### Согласно нашим выводам, приведенным выше, установка цены на минимальное значение доверительного интервала привело к увеличению суммы дохода.\n",
        "##### Однако это не означает, что этот продукт выгоднее продавать с минимальным значением доверительного интервала, поскольку мы не знаем, сколько стоит этот продукт.\n",
        "##### Но наша работа здесь сделана. Мы провели необходимые тесты и предоставили необходимую информацию."
      ]
    }
  ]
}